{
 "cells": [
  {
   "cell_type": "code",
   "execution_count": 22,
   "metadata": {
    "colab": {
     "base_uri": "https://localhost:8080/"
    },
    "id": "TaEFt_1HSqDi",
    "outputId": "197e8893-2d82-4593-afd5-74a85f6b2db8",
    "scrolled": false
   },
   "outputs": [
    {
     "name": "stderr",
     "output_type": "stream",
     "text": [
      "python: can't open file 'C:\\Users\\karen\\OneDrive\\Documents\\AAUniversity\\INDProj\\REPOSITORY\\Level4Project-AutomaticSearchResultEvaluationUsingLLMs\\src\\repro\\oneshot\\setup.py': [Errno 2] No such file or directory\n"
     ]
    }
   ],
   "source": [
    "!python setup.py develop"
   ]
  },
  {
   "cell_type": "code",
   "execution_count": 7,
   "metadata": {
    "colab": {
     "base_uri": "https://localhost:8080/"
    },
    "id": "Tgg9SoRJdnHq",
    "outputId": "ae6728f2-ca2f-470a-b562-ea8996413e18"
   },
   "outputs": [
    {
     "name": "stdout",
     "output_type": "stream",
     "text": [
      "Requirement already satisfied: python-terrier in c:\\users\\karen\\anaconda3\\lib\\site-packages (0.9.2)\n",
      "Requirement already satisfied: numpy in c:\\users\\karen\\anaconda3\\lib\\site-packages (from python-terrier) (1.24.3)\n",
      "Requirement already satisfied: pandas in c:\\users\\karen\\anaconda3\\lib\\site-packages (from python-terrier) (2.0.3)\n",
      "Requirement already satisfied: wget in c:\\users\\karen\\anaconda3\\lib\\site-packages (from python-terrier) (3.2)\n",
      "Requirement already satisfied: tqdm in c:\\users\\karen\\anaconda3\\lib\\site-packages (from python-terrier) (4.65.0)\n",
      "Requirement already satisfied: pyjnius>=1.4.2 in c:\\users\\karen\\anaconda3\\lib\\site-packages (from python-terrier) (1.6.0)\n",
      "Requirement already satisfied: matchpy in c:\\users\\karen\\anaconda3\\lib\\site-packages (from python-terrier) (0.5.5)\n",
      "Requirement already satisfied: scikit-learn in c:\\users\\karen\\anaconda3\\lib\\site-packages (from python-terrier) (1.3.0)\n",
      "Requirement already satisfied: deprecated in c:\\users\\karen\\anaconda3\\lib\\site-packages (from python-terrier) (1.2.14)\n",
      "Requirement already satisfied: chest in c:\\users\\karen\\anaconda3\\lib\\site-packages (from python-terrier) (0.2.3)\n",
      "Requirement already satisfied: scipy in c:\\users\\karen\\anaconda3\\lib\\site-packages (from python-terrier) (1.11.1)\n",
      "Requirement already satisfied: requests in c:\\users\\karen\\anaconda3\\lib\\site-packages (from python-terrier) (2.31.0)\n",
      "Requirement already satisfied: joblib in c:\\users\\karen\\anaconda3\\lib\\site-packages (from python-terrier) (1.2.0)\n",
      "Requirement already satisfied: nptyping==1.4.4 in c:\\users\\karen\\anaconda3\\lib\\site-packages (from python-terrier) (1.4.4)\n",
      "Requirement already satisfied: more-itertools in c:\\users\\karen\\anaconda3\\lib\\site-packages (from python-terrier) (8.12.0)\n",
      "Requirement already satisfied: ir-datasets>=0.3.2 in c:\\users\\karen\\anaconda3\\lib\\site-packages\\ir_datasets-0.5.5-py3.9.egg (from python-terrier) (0.5.5)\n",
      "Requirement already satisfied: jinja2 in c:\\users\\karen\\anaconda3\\lib\\site-packages (from python-terrier) (3.1.2)\n",
      "Requirement already satisfied: statsmodels in c:\\users\\karen\\anaconda3\\lib\\site-packages (from python-terrier) (0.14.0)\n",
      "Requirement already satisfied: ir-measures>=0.3.1 in c:\\users\\karen\\anaconda3\\lib\\site-packages\\ir_measures-0.3.3-py3.9.egg (from python-terrier) (0.3.3)\n",
      "Requirement already satisfied: dill in c:\\users\\karen\\anaconda3\\lib\\site-packages (from python-terrier) (0.3.7)\n",
      "Requirement already satisfied: pytrec-eval-terrier>=0.5.3 in c:\\users\\karen\\anaconda3\\lib\\site-packages\\pytrec_eval_terrier-0.5.5-py3.9-win-amd64.egg (from python-terrier) (0.5.5)\n",
      "Requirement already satisfied: typish>=1.7.0 in c:\\users\\karen\\anaconda3\\lib\\site-packages (from nptyping==1.4.4->python-terrier) (1.9.3)\n",
      "Requirement already satisfied: beautifulsoup4>=4.4.1 in c:\\users\\karen\\anaconda3\\lib\\site-packages (from ir-datasets>=0.3.2->python-terrier) (4.10.0)\n",
      "Requirement already satisfied: inscriptis>=2.2.0 in c:\\users\\karen\\anaconda3\\lib\\site-packages\\inscriptis-2.3.2-py3.9.egg (from ir-datasets>=0.3.2->python-terrier) (2.3.2)\n",
      "Requirement already satisfied: lxml>=4.5.2 in c:\\users\\karen\\anaconda3\\lib\\site-packages (from ir-datasets>=0.3.2->python-terrier) (4.9.3)\n",
      "Requirement already satisfied: pyyaml>=5.3.1 in c:\\users\\karen\\anaconda3\\lib\\site-packages (from ir-datasets>=0.3.2->python-terrier) (6.0)\n",
      "Requirement already satisfied: trec-car-tools>=2.5.4 in c:\\users\\karen\\anaconda3\\lib\\site-packages\\trec_car_tools-2.6-py3.9.egg (from ir-datasets>=0.3.2->python-terrier) (2.6)\n",
      "Requirement already satisfied: lz4>=3.1.10 in c:\\users\\karen\\anaconda3\\lib\\site-packages (from ir-datasets>=0.3.2->python-terrier) (4.3.2)\n",
      "Requirement already satisfied: warc3-wet>=0.2.3 in c:\\users\\karen\\anaconda3\\lib\\site-packages\\warc3_wet-0.2.3-py3.9.egg (from ir-datasets>=0.3.2->python-terrier) (0.2.3)\n",
      "Requirement already satisfied: warc3-wet-clueweb09>=0.2.5 in c:\\users\\karen\\anaconda3\\lib\\site-packages\\warc3_wet_clueweb09-0.2.5-py3.9.egg (from ir-datasets>=0.3.2->python-terrier) (0.2.5)\n",
      "Requirement already satisfied: zlib-state>=0.1.3 in c:\\users\\karen\\anaconda3\\lib\\site-packages\\zlib_state-0.1.5-py3.9-win-amd64.egg (from ir-datasets>=0.3.2->python-terrier) (0.1.5)\n",
      "Requirement already satisfied: ijson>=3.1.3 in c:\\users\\karen\\anaconda3\\lib\\site-packages\\ijson-3.2.3-py3.9-win-amd64.egg (from ir-datasets>=0.3.2->python-terrier) (3.2.3)\n",
      "Requirement already satisfied: pyautocorpus>=0.1.1 in c:\\users\\karen\\anaconda3\\lib\\site-packages\\pyautocorpus-0.1.12-py3.9-win-amd64.egg (from ir-datasets>=0.3.2->python-terrier) (0.1.12)\n",
      "Requirement already satisfied: unlzw3>=0.2.1 in c:\\users\\karen\\anaconda3\\lib\\site-packages\\unlzw3-0.2.2-py3.9.egg (from ir-datasets>=0.3.2->python-terrier) (0.2.2)\n",
      "Requirement already satisfied: cwl-eval>=1.0.10 in c:\\users\\karen\\anaconda3\\lib\\site-packages\\cwl_eval-1.0.12-py3.9.egg (from ir-measures>=0.3.1->python-terrier) (1.0.12)\n",
      "Requirement already satisfied: charset-normalizer<4,>=2 in c:\\users\\karen\\anaconda3\\lib\\site-packages (from requests->python-terrier) (2.0.4)\n",
      "Requirement already satisfied: idna<4,>=2.5 in c:\\users\\karen\\anaconda3\\lib\\site-packages (from requests->python-terrier) (3.4)\n",
      "Requirement already satisfied: urllib3<3,>=1.21.1 in c:\\users\\karen\\anaconda3\\lib\\site-packages (from requests->python-terrier) (1.26.16)\n",
      "Requirement already satisfied: certifi>=2017.4.17 in c:\\users\\karen\\anaconda3\\lib\\site-packages (from requests->python-terrier) (2023.7.22)\n",
      "Requirement already satisfied: colorama in c:\\users\\karen\\anaconda3\\lib\\site-packages (from tqdm->python-terrier) (0.4.6)\n",
      "Requirement already satisfied: heapdict in c:\\users\\karen\\anaconda3\\lib\\site-packages (from chest->python-terrier) (1.0.1)\n",
      "Requirement already satisfied: wrapt<2,>=1.10 in c:\\users\\karen\\anaconda3\\lib\\site-packages (from deprecated->python-terrier) (1.14.1)\n",
      "Requirement already satisfied: MarkupSafe>=2.0 in c:\\users\\karen\\anaconda3\\lib\\site-packages (from jinja2->python-terrier) (2.1.1)\n",
      "Requirement already satisfied: multiset<3.0,>=2.0 in c:\\users\\karen\\anaconda3\\lib\\site-packages (from matchpy->python-terrier) (2.1.1)\n",
      "Requirement already satisfied: python-dateutil>=2.8.2 in c:\\users\\karen\\anaconda3\\lib\\site-packages (from pandas->python-terrier) (2.8.2)\n",
      "Requirement already satisfied: pytz>=2020.1 in c:\\users\\karen\\anaconda3\\lib\\site-packages (from pandas->python-terrier) (2023.3.post1)\n",
      "Requirement already satisfied: tzdata>=2022.1 in c:\\users\\karen\\anaconda3\\lib\\site-packages (from pandas->python-terrier) (2023.3)\n",
      "Requirement already satisfied: threadpoolctl>=2.0.0 in c:\\users\\karen\\anaconda3\\lib\\site-packages (from scikit-learn->python-terrier) (2.2.0)\n",
      "Requirement already satisfied: patsy>=0.5.2 in c:\\users\\karen\\anaconda3\\lib\\site-packages (from statsmodels->python-terrier) (0.5.3)\n",
      "Requirement already satisfied: packaging>=21.3 in c:\\users\\karen\\anaconda3\\lib\\site-packages (from statsmodels->python-terrier) (23.1)\n",
      "Requirement already satisfied: soupsieve>1.2 in c:\\users\\karen\\anaconda3\\lib\\site-packages (from beautifulsoup4>=4.4.1->ir-datasets>=0.3.2->python-terrier) (2.4)\n",
      "Requirement already satisfied: six in c:\\users\\karen\\anaconda3\\lib\\site-packages (from patsy>=0.5.2->statsmodels->python-terrier) (1.16.0)\n",
      "Requirement already satisfied: cbor>=1.0.0 in c:\\users\\karen\\anaconda3\\lib\\site-packages\\cbor-1.0.0-py3.9.egg (from trec-car-tools>=2.5.4->ir-datasets>=0.3.2->python-terrier) (1.0.0)\n"
     ]
    }
   ],
   "source": [
    "!pip install python-terrier"
   ]
  },
  {
   "cell_type": "code",
   "execution_count": 16,
   "metadata": {},
   "outputs": [
    {
     "name": "stdout",
     "output_type": "stream",
     "text": [
      "Requirement already satisfied: torch in c:\\users\\karen\\anaconda3\\lib\\site-packages (1.13.1)\n",
      "Requirement already satisfied: typing-extensions in c:\\users\\karen\\anaconda3\\lib\\site-packages (from torch) (4.7.1)\n"
     ]
    }
   ],
   "source": [
    "!pip install torch"
   ]
  },
  {
   "cell_type": "code",
   "execution_count": 17,
   "metadata": {
    "colab": {
     "base_uri": "https://localhost:8080/"
    },
    "id": "w-g0HjtJSqrG",
    "outputId": "cb71527a-bd64-4889-b5b1-9957321bdbec"
   },
   "outputs": [
    {
     "name": "stdout",
     "output_type": "stream",
     "text": [
      "[WinError 3] The system cannot find the path specified: 'repro/oneshot'\n",
      "C:\\Users\\karen\\OneDrive\\Documents\\AAUniversity\\INDProj\\REPOSITORY\\Level4Project-AutomaticSearchResultEvaluationUsingLLMs\\src\\repro\\oneshot\n"
     ]
    }
   ],
   "source": [
    "%cd repro/oneshot\n"
   ]
  },
  {
   "cell_type": "code",
   "execution_count": 75,
   "metadata": {
    "scrolled": true
   },
   "outputs": [
    {
     "name": "stdout",
     "output_type": "stream",
     "text": [
      "DuoT5Baseline: AP=0.24561835948952349, Max F1=0.32652201385504287\n",
      "Generic Summarization Model: AP=0.2546685963558712, Max F1=0.33919929603542404\n"
     ]
    }
   ],
   "source": [
    "!python figure1.py"
   ]
  },
  {
   "cell_type": "code",
   "execution_count": 80,
   "metadata": {
    "scrolled": true
   },
   "outputs": [
    {
     "name": "stdout",
     "output_type": "stream",
     "text": [
      "\\textbf{SDCG@10} & Baseline Document & 0.527 & 0.712 & 0.712 & 0.000 & 0.500 \\\\\n",
      " & Generic Summarization Model & 0.511 & 0.682 & 0.701 & 0.000 & 0.679 \\\\\n",
      "\\midrule\n",
      "\\textbf{P@10} & Baseline Document & 0.530 & 0.723 & 0.792 & 0.000 & 0.481 \\\\\n",
      " & Generic Summarization Model & 0.504 & 0.687 & 0.782 & 0.000 & 0.630 \\\\\n",
      "\\midrule\n",
      "\\textbf{RBP(p=0.8)} & Baseline Document & 0.540 & 0.719 & 0.838 & 0.000 & 0.571 \\\\\n",
      " & Generic Summarization Model & 0.495 & 0.675 & 0.824 & 0.000 & 0.643 \\\\\n",
      "\\midrule\n"
     ]
    },
    {
     "name": "stderr",
     "output_type": "stream",
     "text": [
      "\n",
      "reading runs:   0%|          | 0/1 [00:00<?, ?it/s]\n",
      "reading runs: 100%|##########| 1/1 [00:08<00:00,  8.33s/it]\n",
      "reading runs: 100%|##########| 1/1 [00:08<00:00,  8.33s/it]\n"
     ]
    }
   ],
   "source": [
    "!python table2.py"
   ]
  },
  {
   "cell_type": "code",
   "execution_count": null,
   "metadata": {},
   "outputs": [],
   "source": [
    "!python compute_scores.py #this could take days reproduces the results file for duot5baseline"
   ]
  }
 ],
 "metadata": {
  "colab": {
   "provenance": []
  },
  "kernelspec": {
   "display_name": "Python 3 (ipykernel)",
   "language": "python",
   "name": "python3"
  },
  "language_info": {
   "codemirror_mode": {
    "name": "ipython",
    "version": 3
   },
   "file_extension": ".py",
   "mimetype": "text/x-python",
   "name": "python",
   "nbconvert_exporter": "python",
   "pygments_lexer": "ipython3",
   "version": "3.9.18"
  }
 },
 "nbformat": 4,
 "nbformat_minor": 1
}
